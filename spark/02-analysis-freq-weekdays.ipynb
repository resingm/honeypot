{
 "cells": [
  {
   "cell_type": "code",
   "execution_count": null,
   "metadata": {},
   "outputs": [],
   "source": [
    "APP_NAME = \"Dataplane Frequency analysis\""
   ]
  },
  {
   "cell_type": "code",
   "execution_count": null,
   "metadata": {},
   "outputs": [],
   "source": [
    "%load configuration.py\n"
   ]
  },
  {
   "cell_type": "code",
   "execution_count": null,
   "metadata": {},
   "outputs": [],
   "source": [
    "%load setup.py\n"
   ]
  },
  {
   "cell_type": "code",
   "execution_count": null,
   "metadata": {},
   "outputs": [],
   "source": [
    "%load data.py\n"
   ]
  },
  {
   "cell_type": "markdown",
   "metadata": {},
   "source": [
    "# Creation of dataframes\n",
    "\n",
    "The following section creates dataframes for each day of the logging phase.\n",
    "Afterwards, the dataframes per date are unionized in order to generate \n",
    "dataframes which cover the information of data per week day, per work"
   ]
  },
  {
   "cell_type": "code",
   "execution_count": null,
   "metadata": {},
   "outputs": [],
   "source": [
    "# Analysis per day of the logging phase\n",
    "\n",
    "dfs = {}\n",
    "\n",
    "for i in range(len(dates) - 1):\n",
    "    dfs[i] = df_log.select(\n",
    "        \"id\",\n",
    "        \"origin\",\n",
    "        \"origin_id\",\n",
    "        \"timestamp\",\n",
    "        \"category\",\n",
    "        \"ip\",\n",
    "        \"username\",\n",
    "    ).filter(\n",
    "        f\"'{dates[i]}' <= timestamp AND timestamp < '{dates[i + 1]}'\"\n",
    "    ).filter(\"category='ssh' OR category='telnet'\")\n"
   ]
  },
  {
   "cell_type": "code",
   "execution_count": null,
   "metadata": {},
   "outputs": [],
   "source": [
    "# Analysis per weekday:\n",
    "# Monday, Tuesday, ...\n",
    "\n",
    "weekdays = range(7)\n",
    "df_weekdays = {}\n",
    "\n",
    "for day in weekdays:\n",
    "    df = None\n",
    "    for i in get_i_weekday(day):\n",
    "        if df is None:\n",
    "            df = dfs[i]\n",
    "        else:\n",
    "            df = df.union(dfs[i])\n",
    "        \n",
    "    df_weekdays[day] = df\n",
    "\n",
    "\n",
    "summary_weekday = pd.DataFrame({\n",
    "    \"Day\": [get_name_weekday(i) for i in weekdays],\n",
    "    \"# IPs SSH\": [df_weekdays[i].select(\"ip\").filter(\"category='ssh'\").distinct().count() for i in weekdays],\n",
    "    \"# IPs Telnet\": [df_weekdays[i].select(\"ip\").filter(\"category='telnet'\").distinct().count() for i in weekdays],\n",
    "    \"# IPs Total\": [df_weekdays[i].select(\"ip\").distinct().count() for i in weekdays],\n",
    "    \"# Requests SSH\": [df_weekdays[i].select(\"*\").filter(\"category='ssh'\").count() for i in weekdays],\n",
    "    \"# Requests Telnet\": [df_weekdays[i].select(\"*\").filter(\"category='telnet'\").count() for i in weekdays],\n",
    "    \"# Requests Total\": [df_weekdays[i].count() for i in weekdays],\n",
    "})\n",
    "    \n",
    "summary_weekday\n",
    "    "
   ]
  }
 ],
 "metadata": {
  "kernelspec": {
   "display_name": "Python 3",
   "language": "python",
   "name": "python3"
  },
  "language_info": {
   "codemirror_mode": {
    "name": "ipython",
    "version": 3
   },
   "file_extension": ".py",
   "mimetype": "text/x-python",
   "name": "python",
   "nbconvert_exporter": "python",
   "pygments_lexer": "ipython3",
   "version": "3.6.9"
  }
 },
 "nbformat": 4,
 "nbformat_minor": 4
}
