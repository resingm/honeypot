{
 "cells": [
  {
   "cell_type": "markdown",
   "id": "47771536-0434-477e-b274-2d7d0e9f18ea",
   "metadata": {},
   "source": [
    "# Requests Analysis per date\n",
    "\n",
    "This analysis focusses on the date of the requests.\n",
    "\n"
   ]
  },
  {
   "cell_type": "code",
   "execution_count": null,
   "id": "41162bc5-c219-4908-bd64-934d184a3598",
   "metadata": {},
   "outputs": [],
   "source": [
    "APP_NAME = \"Request Analysis per date\"\n"
   ]
  },
  {
   "cell_type": "code",
   "execution_count": null,
   "id": "6a1790bb-7a2d-4667-badf-bbbf26d934d9",
   "metadata": {},
   "outputs": [],
   "source": [
    "%load configuration.py\n"
   ]
  },
  {
   "cell_type": "code",
   "execution_count": null,
   "id": "25222287-7928-4363-bd40-61af6664e43a",
   "metadata": {},
   "outputs": [],
   "source": [
    "%load setup-pd.py\n"
   ]
  },
  {
   "cell_type": "code",
   "execution_count": null,
   "id": "f5e9cdd3-70e4-404d-ae61-fe458eae591e",
   "metadata": {},
   "outputs": [],
   "source": [
    "%load data.py\n"
   ]
  },
  {
   "cell_type": "code",
   "execution_count": null,
   "id": "a0787ef9-edf8-46c6-8eaa-b9539de263be",
   "metadata": {},
   "outputs": [],
   "source": [
    "# Get logs per protocol category\n",
    "# ================\n",
    "\n",
    "# Logs per category allows to distinguish between the requests\n",
    "\n",
    "df_ssh = df_log[df_log.category == 'ssh']\n",
    "df_ssh = df_ssh[['origin', 'origin_id', 'timestamp', 'ip']]\n",
    "df_tel = df_log[df_log.category == 'telnet']\n",
    "df_tel = df_tel[['origin', 'origin_id', 'timestamp', 'ip']]\n",
    "\n",
    "df_ssh = df_ssh.set_index('timestamp')\n",
    "df_tel = df_tel.set_index('timestamp')\n",
    "\n",
    "df_ts_ssh = df_ssh.groupby([pd.Grouper(freq='D'), 'origin', 'origin_id']).count()\n",
    "df_ts_ssh = df_ts_ssh.reset_index().set_index('timestamp')\n",
    "\n",
    "df_ts_tel = df_tel.groupby([pd.Grouper(freq='D'), 'origin', 'origin_id']).count()\n",
    "df_ts_tel = df_ts_tel.reset_index().set_index('timestamp')\n",
    "\n",
    "df_ts_ssh.rename(columns={'ip' : 'requests'}, inplace=True)\n",
    "df_ts_tel.rename(columns={'ip' : 'requests'}, inplace=True)\n"
   ]
  },
  {
   "cell_type": "code",
   "execution_count": null,
   "id": "935f580f-74de-4fce-a983-25f9605beeff",
   "metadata": {},
   "outputs": [],
   "source": [
    "df = df_ts_ssh.groupby(df_ts_ssh.index).mean().drop('origin_id', axis=1).rename(columns={'requests' : 'SSH'})\n",
    "df = df.join(df_ts_tel.groupby(df_ts_tel.index).mean().drop('origin_id', axis=1).rename(columns={'requests': 'Telnet'}))\n",
    "\n",
    "df.plot.bar(\n",
    "    figsize=(12,8),\n",
    "    title=\"Comparison SSH & Telnet\",\n",
    "    xlabel=\"Date\",\n",
    "    ylabel=\"No. of requests (avg. per honeypot)\",\n",
    ")\n",
    "\n",
    "\n",
    "#df = df_ts_ssh.groupby(df_ts_ssh.index).mean().drop(['origin_id'], axis=1).rename(columns())\n",
    "\n",
    "#df = df_ts_ssh.unstack(['origin', 'origin_id'])\n",
    "\n",
    "\n",
    "#df.columns = df.columns.map(\n",
    "#    lambda x: ' '.join([str(i).capitalize() for i in x if str(i) != 'ip'])\n",
    "#)\n",
    "#df[df.origin == 'campus']"
   ]
  },
  {
   "cell_type": "code",
   "execution_count": null,
   "id": "c536e82d-14d9-4a2c-a4e4-a6ce272c46c7",
   "metadata": {},
   "outputs": [],
   "source": [
    "# Group dataframes according to specific network types\n",
    "# ================\n",
    "#\n",
    "# Just considers the SSH plots\n",
    "\n",
    "plots = {}\n",
    "\n",
    "df = df_ts_ssh.groupby([df_ts_ssh.index, 'origin']).mean().drop(['origin_id'], axis=1).unstack('origin')\n",
    "df.columns = df.columns.map(\n",
    "    lambda x : ' '.join([str(i).capitalize() for i in x if str(i) != 'requests'])\n",
    ")\n",
    "\n",
    "plots['Average SSH requests per network type'] = df\n",
    "\n",
    "for net in origins:\n",
    "    df = df_ts_ssh[df_ts_ssh.origin == net]\n",
    "    df = df.groupby(['timestamp', 'origin', 'origin_id']).sum().unstack(['origin', 'origin_id'])\n",
    "    df.columns = df.columns.map(\n",
    "        lambda x : ' '.join([str(i).capitalize() for i in x if str(i) != 'requests'])\n",
    "    )\n",
    "    plots[f\"SSH requests per honeypot in {net} networks\"] = df\n",
    "\n",
    "for k, v in plots.items():\n",
    "    v.plot.bar(\n",
    "        figsize=(12, 8),\n",
    "        title=k,\n",
    "        xlabel=\"Date\",\n",
    "        ylabel=\"No. of requests\",\n",
    "    )\n",
    "\n",
    "\n"
   ]
  },
  {
   "cell_type": "code",
   "execution_count": null,
   "id": "101ca83e-659c-45e3-b5c3-db716656aee5",
   "metadata": {},
   "outputs": [],
   "source": [
    "# Group dataframes according to specific network types\n",
    "# ================\n",
    "#\n",
    "# Just considers the Telnet plots\n",
    "\n",
    "plots = {}\n",
    "\n",
    "df = df_ts_tel.groupby([df_ts_tel.index, 'origin']).mean().drop(['origin_id'], axis=1).unstack('origin')\n",
    "df.columns = df.columns.map(\n",
    "    lambda x : ' '.join([str(i).capitalize() for i in x if str(i) != 'requests'])\n",
    ")\n",
    "\n",
    "plots['Average Telnet requests per network type'] = df\n",
    "\n",
    "for net in origins:\n",
    "    df = df_ts_tel[df_ts_tel.origin == net]\n",
    "    df = df.groupby(['timestamp', 'origin', 'origin_id']).sum().unstack(['origin', 'origin_id'])\n",
    "    df.columns = df.columns.map(\n",
    "        lambda x : ' '.join([str(i).capitalize() for i in x if str(i) != 'requests'])\n",
    "    )\n",
    "    plots[f\"Telnet requests per honeypot in {net} networks\"] = df\n",
    "\n",
    "for k, v in plots.items():\n",
    "    v.plot.bar(\n",
    "        figsize=(12, 8),\n",
    "        title=k,\n",
    "        xlabel=\"Date\",\n",
    "        ylabel=\"No. of requests\",\n",
    "    )\n",
    "\n",
    "\n"
   ]
  },
  {
   "cell_type": "code",
   "execution_count": null,
   "id": "60c77b59-a148-4df3-b4f9-634d407f5141",
   "metadata": {},
   "outputs": [],
   "source": []
  }
 ],
 "metadata": {
  "kernelspec": {
   "display_name": "Python 3",
   "language": "python",
   "name": "python3"
  },
  "language_info": {
   "codemirror_mode": {
    "name": "ipython",
    "version": 3
   },
   "file_extension": ".py",
   "mimetype": "text/x-python",
   "name": "python",
   "nbconvert_exporter": "python",
   "pygments_lexer": "ipython3",
   "version": "3.8.5"
  }
 },
 "nbformat": 4,
 "nbformat_minor": 5
}
