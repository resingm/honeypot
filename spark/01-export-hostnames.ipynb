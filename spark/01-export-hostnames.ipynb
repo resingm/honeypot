{
 "cells": [
  {
   "cell_type": "markdown",
   "metadata": {},
   "source": [
    "# Export hostnames of Telnet data\n",
    "\n",
    "The issue with Telnet data is, that the Telnet service sometimes logs the hostname\n",
    "and sometimes the IP address of the requesting host. Unfortunately, the hostname\n",
    "is not always properly assignable."
   ]
  },
  {
   "cell_type": "code",
   "execution_count": null,
   "metadata": {},
   "outputs": [],
   "source": [
    "APP_NAME = \"Extract hostnames of Telnet\""
   ]
  },
  {
   "cell_type": "code",
   "execution_count": null,
   "metadata": {},
   "outputs": [],
   "source": [
    "%load configuration.py"
   ]
  },
  {
   "cell_type": "code",
   "execution_count": null,
   "metadata": {},
   "outputs": [],
   "source": [
    "%load setup.py"
   ]
  },
  {
   "cell_type": "code",
   "execution_count": null,
   "metadata": {},
   "outputs": [],
   "source": [
    "%load data.py"
   ]
  },
  {
   "cell_type": "code",
   "execution_count": null,
   "metadata": {},
   "outputs": [],
   "source": [
    "df_telnet = {}\n",
    "\n",
    "for i in range(len(dates) - 1):\n",
    "    print(f\"Load {dates[i]} to {dates[i+1]}\")\n",
    "    df_telnet[dates[i]] = df_log.select(\"timestamp\", \"raw\").filter(\"category == 'telnet'\").filter(f\"timestamp >= '{dates[i]}' and timestamp < '{dates[i+1]}'\")\n",
    "\n",
    "#df_telnet[dates[0]].show(20);\n"
   ]
  },
  {
   "cell_type": "code",
   "execution_count": null,
   "metadata": {},
   "outputs": [],
   "source": [
    "from pyspark.sql import functions as fn\n",
    "import ipaddress\n",
    "\n",
    "path = \"/home/max/jupyter/dataplane/export/\"\n",
    "#df.select(\"raw\").split(\"' from '\")\n",
    "\n",
    "def is_host(s):\n",
    "    try:\n",
    "        ipaddress.ip_address(s)\n",
    "        return False\n",
    "    except:\n",
    "        return True\n",
    "\n",
    "def df_to_list(df):\n",
    "    df = df.select(fn.split(\"raw\", \"' from '\")[1].alias(\"raw\"))\n",
    "    df = df.select(fn.split(\"raw\", \"' FOR '\")[0].alias('host'))\n",
    "    df = df.distinct()\n",
    "    arr = df.collect()\n",
    "    arr = [r.host for r in arr]\n",
    "    arr = [x for x in arr if is_host(x)]\n",
    "    return arr\n",
    "\n",
    "#tmp = df.select(fn.split(\"raw\", \"' from '\")[1].alias('raw'))\n",
    "#tmp = tmp.select(fn.split(\"raw\", \"' FOR '\")[0].alias('host'))\n",
    "#tmp = tmp.distinct()\n",
    "#tmp = tmp.select(fn.map_filter(\"host\", is_ip).alias(\"host\"))\n",
    "#tmp = tmp.select(\n",
    "#    fn.filter(\"host\", is_ip).alias(\"host\")\n",
    "#)\n",
    "#tmp = tmp.filter(tmp.host)\n",
    "\n",
    "#tmp = tmp.collect()\n",
    "#tmp = [r.host for r in tmp]\n",
    "#tmp = list(filter(is_host, tmp))\n",
    "\n",
    "#print(tmp)\n",
    "\n",
    "hosts = {}\n",
    "\n",
    "for x in dates:\n",
    "    print(f\"Dataframe to host list {x}\")\n",
    "    if x in df_telnet.keys():\n",
    "        hosts[x] = df_to_list(df_telnet[x])\n",
    "\n",
    "\n",
    "for k, v in hosts.items():\n",
    "    _f = f\"{path}/hosts-{k.year}-{k.month}-{k.day}.txt\"\n",
    "    \n",
    "    print(f\"Write {len(v)} hosts to file {_f}\")\n",
    "    with open(_f, 'w') as f:\n",
    "        f.writelines([x + '\\n' for x in v])"
   ]
  },
  {
   "cell_type": "code",
   "execution_count": null,
   "metadata": {},
   "outputs": [],
   "source": []
  }
 ],
 "metadata": {
  "kernelspec": {
   "display_name": "Python 3",
   "language": "python",
   "name": "python3"
  },
  "language_info": {
   "codemirror_mode": {
    "name": "ipython",
    "version": 3
   },
   "file_extension": ".py",
   "mimetype": "text/x-python",
   "name": "python",
   "nbconvert_exporter": "python",
   "pygments_lexer": "ipython3",
   "version": "3.6.9"
  }
 },
 "nbformat": 4,
 "nbformat_minor": 4
}
