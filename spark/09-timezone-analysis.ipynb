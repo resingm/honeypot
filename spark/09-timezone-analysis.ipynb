{
 "cells": [
  {
   "cell_type": "code",
   "execution_count": null,
   "id": "1cff0744-fb01-418d-8002-70413ab2f03d",
   "metadata": {},
   "outputs": [],
   "source": [
    "%load configuration.py\n"
   ]
  },
  {
   "cell_type": "code",
   "execution_count": null,
   "id": "b58a5555-71ae-46d2-bee3-25a000f01929",
   "metadata": {},
   "outputs": [],
   "source": [
    "%load data.py\n"
   ]
  },
  {
   "cell_type": "code",
   "execution_count": null,
   "id": "94fc1ee6-d666-4fca-b0bf-fa336b97b330",
   "metadata": {},
   "outputs": [],
   "source": [
    "%load setup-pd.py\n"
   ]
  },
  {
   "cell_type": "code",
   "execution_count": null,
   "id": "615726ad-a6bc-4069-aed9-84eab90cf8f7",
   "metadata": {},
   "outputs": [],
   "source": [
    "import datetime, pytz\n",
    "\n",
    "df_ip['utcoffset'] = df_ip.timezone.apply(\n",
    "    lambda x : datetime.datetime.now(pytz.timezone(x)).strftime('%z') if isinstance(x, str) else None\n",
    ")\n",
    "\n",
    "df_ip = df_ip[['ip', 'city', 'region', 'longitude', 'latitude', 'org', 'postal', 'timezone', 'utcoffset', 'country']]\n",
    "#df_ip.to_csv('/home/max/jupyter/dataplane/raw/ip_loc.csv')\n"
   ]
  },
  {
   "cell_type": "code",
   "execution_count": null,
   "id": "66149317-3201-475d-b5e9-bed1737f806f",
   "metadata": {},
   "outputs": [],
   "source": [
    "df = df_log[df_log.category == 'ssh'][['origin', 'origin_id', 'timestamp', 'ip']]\n",
    "#df.groupby()\n",
    "\n",
    "#df['utcoffset'] = df_\n",
    "\n",
    "def utc2number(x):\n",
    "    sign = -1 if x[0] == '-' else 1\n",
    "    hour = int(x[1:3])\n",
    "    minute = int(x[3:])\n",
    "    minute /= 60\n",
    "    return sign * (hour + minute)\n",
    "    \n",
    "\n",
    "df = df.merge(df_ip, how='left', left_on='ip', right_on='ip')\n",
    "df = df[['origin', 'origin_id', 'timestamp', 'ip', 'utcoffset', 'country']]\n",
    "#df['utcoffset'] = df.utcoffset.apply(utc2number)\n",
    "#df['utcoffset'] = df.utcoffset.apply(lambda x : f\"{x[0:3]}:{x[3:]}\")\n",
    "df['utcoffset'] = df.utcoffset.apply(lambda x : f\"{x[0:3]}:00\")\n",
    "df = df.set_index(df.timestamp)\n",
    "df = df.drop(['timestamp'], axis=1)\n",
    "df = df.groupby([pd.Grouper(freq='H'), 'origin', 'origin_id', 'ip', 'utcoffset']).count()\n",
    "df = df.rename(columns={'country' : 'ips'})\n",
    "df = df.reset_index().set_index('timestamp')\n",
    "df = df.groupby([df.index.hour, 'origin', 'origin_id', 'utcoffset']).sum()\n",
    "df = df.reset_index().set_index('timestamp')\n",
    "df\n"
   ]
  },
  {
   "cell_type": "code",
   "execution_count": null,
   "id": "35ca9bde-38f5-4fb5-8866-5d96aa62f13d",
   "metadata": {},
   "outputs": [],
   "source": [
    "#plots = {}\n",
    "\n",
    "def order_utcoffsets(index):\n",
    "    ordered = [x for x in index if x[0] == '-']\n",
    "    ordered.reverse()\n",
    "    ordered += [x for x in index if x[0] == '+']\n",
    "    ordered = pd.Index(ordered)\n",
    "    return ordered\n",
    "\n",
    "tmp = df.groupby([df.index, 'utcoffset']).sum()\n",
    "tmp = tmp[['ips']].unstack('utcoffset')\n",
    "tmp = tmp.fillna(0).astype(int)\n",
    "tmp = pd.DataFrame(tmp.to_dict()).transpose()\n",
    "tmp = tmp.reset_index().drop('level_0', axis=1).set_index('level_1')\n",
    "tmp = pd.DataFrame(tmp.to_dict())\n",
    "tmp = tmp.reindex(order_utcoffsets(tmp.index))\n",
    "tmp.style.background_gradient(cmap='Wistia', vmax=3000)"
   ]
  },
  {
   "cell_type": "code",
   "execution_count": null,
   "id": "b5283340-a424-433d-9e22-ae9e8b8b2783",
   "metadata": {},
   "outputs": [],
   "source": [
    "timezones = df_ip[['timezone', 'utcoffset']].dropna().drop_duplicates().set_index('utcoffset').sort_index()\n",
    "timezones\n"
   ]
  }
 ],
 "metadata": {
  "kernelspec": {
   "display_name": "Python 3",
   "language": "python",
   "name": "python3"
  },
  "language_info": {
   "codemirror_mode": {
    "name": "ipython",
    "version": 3
   },
   "file_extension": ".py",
   "mimetype": "text/x-python",
   "name": "python",
   "nbconvert_exporter": "python",
   "pygments_lexer": "ipython3",
   "version": "3.8.5"
  }
 },
 "nbformat": 4,
 "nbformat_minor": 5
}
