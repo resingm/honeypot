{
 "cells": [
  {
   "cell_type": "markdown",
   "id": "47771536-0434-477e-b274-2d7d0e9f18ea",
   "metadata": {},
   "source": [
    "# Ramp-up Analysis\n",
    "\n",
    "This analysis aims to perform a ramp-up analysis of the dataset.\n",
    "A ramp-up is basically the summary of login requests per timeslot\n",
    "over the time. We expect to see an increasing number of IPs as well\n",
    "as an increasing number of requests proportionally to the IPs.\n",
    "\n",
    "## TODO:\n",
    "\n",
    "Find some literature, which supports the ramp-up expectation\n",
    "\n",
    "\n"
   ]
  },
  {
   "cell_type": "code",
   "execution_count": null,
   "id": "41162bc5-c219-4908-bd64-934d184a3598",
   "metadata": {},
   "outputs": [],
   "source": [
    "APP_NAME = \"Ramp-up Analysis\"\n",
    "\n"
   ]
  },
  {
   "cell_type": "code",
   "execution_count": null,
   "metadata": {},
   "outputs": [],
   "source": [
    "%load configuration.py"
   ]
  },
  {
   "cell_type": "code",
   "execution_count": null,
   "metadata": {},
   "outputs": [],
   "source": [
    "%load data.py"
   ]
  },
  {
   "cell_type": "code",
   "execution_count": null,
   "metadata": {},
   "outputs": [],
   "source": [
    "%load setup-pd.py"
   ]
  },
  {
   "cell_type": "code",
   "execution_count": null,
   "metadata": {},
   "outputs": [],
   "source": []
  }
 ],
 "metadata": {
  "kernelspec": {
   "display_name": "Python 3",
   "language": "python",
   "name": "python3"
  },
  "language_info": {
   "codemirror_mode": {
    "name": "ipython",
    "version": 3
   },
   "file_extension": ".py",
   "mimetype": "text/x-python",
   "name": "python",
   "nbconvert_exporter": "python",
   "pygments_lexer": "ipython3",
   "version": "3.6.9"
  }
 },
 "nbformat": 4,
 "nbformat_minor": 5
}