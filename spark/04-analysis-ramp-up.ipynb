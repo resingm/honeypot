{
 "cells": [
  {
   "cell_type": "markdown",
   "id": "47771536-0434-477e-b274-2d7d0e9f18ea",
   "metadata": {},
   "source": [
    "# Ramp-up Analysis\n",
    "\n",
    "This analysis aims to perform a ramp-up analysis of the dataset.\n",
    "A ramp-up is basically the summary of login requests per timeslot\n",
    "over the time. We expect to see an increasing number of IPs as well\n",
    "as an increasing number of requests proportionally to the IPs.\n",
    "\n",
    "## TODO:\n",
    "\n",
    "Find some literature, which supports the ramp-up expectation"
   ]
  },
  {
   "cell_type": "code",
   "execution_count": null,
   "id": "41162bc5-c219-4908-bd64-934d184a3598",
   "metadata": {},
   "outputs": [],
   "source": [
    "from datetime import datetime, timezone\n",
    "\n",
    "APP_NAME = \"Ramp-up Analysis\"\n",
    "\n",
    "# Define the deltas which should be used to group the log data.\n",
    "deltas = [\"5T\", \"10T\", \"15T\", \"20T\", \"30T\", \"60T\", \"120T\"]\n",
    "\n",
    "# Define the protocols\n",
    "#protocols = ['ssh', 'telnet']\n",
    "protocols = ['ssh']\n",
    "\n",
    "# Define the network categories\n",
    "#network_types = ['cloud', 'campus', 'residential']\n",
    "network_types = ['campus']\n",
    "\n",
    "# Define until when the data should be plotted.\n",
    "# Exclusive the moment of plotting. \n",
    "until = datetime(2021, 5, 18, tzinfo=timezone.utc)\n"
   ]
  },
  {
   "cell_type": "code",
   "execution_count": null,
   "id": "6a1790bb-7a2d-4667-badf-bbbf26d934d9",
   "metadata": {},
   "outputs": [],
   "source": [
    "%load configuration.py"
   ]
  },
  {
   "cell_type": "code",
   "execution_count": null,
   "id": "25222287-7928-4363-bd40-61af6664e43a",
   "metadata": {},
   "outputs": [],
   "source": [
    "%load setup-pd.py"
   ]
  },
  {
   "cell_type": "code",
   "execution_count": null,
   "id": "f5e9cdd3-70e4-404d-ae61-fe458eae591e",
   "metadata": {},
   "outputs": [],
   "source": [
    "%load data.py"
   ]
  },
  {
   "cell_type": "code",
   "execution_count": null,
   "id": "ce9531fc-e4ea-4d6b-9d3d-f45ede1a93c8",
   "metadata": {},
   "outputs": [],
   "source": [
    "# Generate keys for honeypots\n",
    "# ================\n",
    "\n",
    "# Generate keys for each honeypot and each protocol. With the help of\n",
    "# this, the pandas Timeseries resampling is applied in order to count()\n",
    "# the occurences per sample.\n",
    "\n",
    "keys = []\n",
    "\n",
    "for h in honeypots:\n",
    "    keys += [(cat, h[0], h[1]) for cat in categories]\n",
    "\n",
    "    \n"
   ]
  },
  {
   "cell_type": "code",
   "execution_count": null,
   "id": "a0787ef9-edf8-46c6-8eaa-b9539de263be",
   "metadata": {},
   "outputs": [],
   "source": [
    "# Generate Dataframes per honeypot\n",
    "# ================\n",
    "\n",
    "# Collect all log entries per honeypot. That makes it faster to\n",
    "# query data later on.\n",
    "\n",
    "dfs = {}\n",
    "\n",
    "for k in keys:\n",
    "    df = df_log[df_log.category == k[0]]\n",
    "    df = df[df.origin == k[1]]\n",
    "    df = df[df.origin_id == k[2]]\n",
    "    dfs[k] = df[[\"timestamp\", \"ip\"]]\n"
   ]
  },
  {
   "cell_type": "code",
   "execution_count": null,
   "id": "9057b7dc-34e5-4050-bdc8-61259060b4f4",
   "metadata": {},
   "outputs": [],
   "source": [
    "# Create time series data of the ramp up.\n",
    "# ================\n",
    "\n",
    "\n",
    "\n",
    "df_timeseries = {}\n",
    "\n",
    "for d in deltas:\n",
    "    df_timeseries[d] = {}\n",
    "    \n",
    "    for cat in categories:\n",
    "        df_timeseries[d][cat] = {}\n",
    "        \n",
    "        for h in honeypots:\n",
    "            org = h[0]\n",
    "            oid = h[1]\n",
    "            \n",
    "            df = dfs[(cat, org, oid)].resample(d, label='left', on='timestamp').count()\n",
    "            df = df[['ip']]\n",
    "            \n",
    "            stored = df_timeseries[d][cat].get(org, None)\n",
    "            \n",
    "            if stored is None:\n",
    "                stored = df\n",
    "                stored.rename(columns={ 'ip' : f\"{org} {oid}\"}, inplace=True)\n",
    "            else:\n",
    "                stored = stored.join(df)\n",
    "                stored.rename(columns={ 'ip' : f\"{org} {oid}\"}, inplace=True)\n",
    "            \n",
    "            df_timeseries[d][cat][org] = stored\n",
    "            "
   ]
  },
  {
   "cell_type": "code",
   "execution_count": null,
   "id": "22f2c0a0-5eaf-4715-a90a-f07642d5ec65",
   "metadata": {},
   "outputs": [],
   "source": [
    "\n",
    "from datetime import datetime, timezone\n",
    "\n",
    "\n",
    "for delta in df_timeseries.keys():\n",
    "    for category in df_timeseries[delta].keys():\n",
    "        \n",
    "        if category not in protocols:\n",
    "            continue\n",
    "        \n",
    "        for origin in df_timeseries[delta][category].keys():\n",
    "            \n",
    "            if origin not in network_types:\n",
    "                continue\n",
    "            \n",
    "            # Build plot parameters\n",
    "            \n",
    "            title = f\"{category.upper()} in {origin} networks\"\n",
    "            xlabel = f\"Time Slots ({delta.replace('T', '')} Minutes)\"\n",
    "            \n",
    "            # Plot\n",
    "            df = df_timeseries[delta][category][origin]            \n",
    "            df = df[df.index < until]\n",
    "            \n",
    "            df.plot.line(\n",
    "                figsize=(15,12),\n",
    "                title=title,\n",
    "                xlabel=xlabel,\n",
    "                ylabel=\"# Requests\",\n",
    "                #subplots=True,\n",
    "            )"
   ]
  },
  {
   "cell_type": "code",
   "execution_count": null,
   "id": "73e72f67-ea26-4a01-a31a-d9862fd0dfe2",
   "metadata": {},
   "outputs": [],
   "source": []
  }
 ],
 "metadata": {
  "kernelspec": {
   "display_name": "Python 3",
   "language": "python",
   "name": "python3"
  },
  "language_info": {
   "codemirror_mode": {
    "name": "ipython",
    "version": 3
   },
   "file_extension": ".py",
   "mimetype": "text/x-python",
   "name": "python",
   "nbconvert_exporter": "python",
   "pygments_lexer": "ipython3",
   "version": "3.6.9"
  }
 },
 "nbformat": 4,
 "nbformat_minor": 5
}
