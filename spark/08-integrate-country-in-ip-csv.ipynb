{
 "cells": [
  {
   "cell_type": "markdown",
   "id": "1cfb61ef-c235-4636-bea6-def56efeb2ee",
   "metadata": {},
   "source": [
    "# Integrate Country Code in ip.csv\n",
    "\n",
    "This section integrates the country code in the ip.csv file based on the geoip.db SQLite database, which I got from Roland."
   ]
  },
  {
   "cell_type": "code",
   "execution_count": null,
   "id": "dada1020-0ee1-476e-8870-9f3ccbbcff60",
   "metadata": {},
   "outputs": [],
   "source": [
    "%load configuration.py\n"
   ]
  },
  {
   "cell_type": "code",
   "execution_count": null,
   "id": "9c126c18-0548-4abc-bc23-d8e52a2dc376",
   "metadata": {},
   "outputs": [],
   "source": [
    "# Load SQLite database with country codes for each subnet\n",
    "\n",
    "import pandas as pd\n",
    "import sqlite3 as lite\n",
    "import sys\n",
    "\n",
    "con = lite.connect('geoip.db')\n",
    "\n",
    "query = \"SELECT * FROM IP4_TO_LOCATION;\"\n",
    "\n",
    "df_country = pd.read_sql_query(query, con)\n",
    "\n",
    "df_country"
   ]
  },
  {
   "cell_type": "code",
   "execution_count": null,
   "id": "4a790cc1-f3a9-4cfa-a450-a22d908b68c8",
   "metadata": {},
   "outputs": [],
   "source": [
    "%load setup-pd.py\n"
   ]
  },
  {
   "cell_type": "code",
   "execution_count": null,
   "id": "495a2621-fe40-44f6-82ac-d6378a302270",
   "metadata": {},
   "outputs": [],
   "source": [
    "import ipaddress\n",
    "\n",
    "df_ip['ip_dec'] = df_ip.ip.apply(lambda x : int(ipaddress.ip_address(x)))\n"
   ]
  },
  {
   "cell_type": "code",
   "execution_count": null,
   "id": "7487dacc-8a06-4cc0-9e53-6062dda4b831",
   "metadata": {},
   "outputs": [],
   "source": [
    "import sqlite3\n",
    "con = sqlite3.connect(\":memory:\")\n",
    "\n",
    "df_ip.to_sql(\"ip\", con, index=False)\n",
    "df_country.to_sql(\"loc\", con, index=False)\n",
    "\n",
    "qry = \"SELECT * FROM ip, loc WHERE loc.from_ip <= ip.ip_dec AND ip.ip_dec <= loc.to_ip;\"\n",
    "df = pd.read_sql_query(qry, con)"
   ]
  },
  {
   "cell_type": "code",
   "execution_count": null,
   "id": "ad69921b-aff4-4787-b506-0a73835df05e",
   "metadata": {},
   "outputs": [],
   "source": [
    "df = df[['id', 'ip', 'city', 'region', 'longitude', 'latitude', 'org', 'postal', 'timezone', 'country']]"
   ]
  },
  {
   "cell_type": "code",
   "execution_count": null,
   "id": "c06e9ecb-33b8-4e3d-9c3e-0cad263ced04",
   "metadata": {},
   "outputs": [],
   "source": [
    "df.to_csv('/home/max/jupyter/dataplane/raw/ip_loc.csv')"
   ]
  }
 ],
 "metadata": {
  "kernelspec": {
   "display_name": "Python 3",
   "language": "python",
   "name": "python3"
  },
  "language_info": {
   "codemirror_mode": {
    "name": "ipython",
    "version": 3
   },
   "file_extension": ".py",
   "mimetype": "text/x-python",
   "name": "python",
   "nbconvert_exporter": "python",
   "pygments_lexer": "ipython3",
   "version": "3.8.5"
  }
 },
 "nbformat": 4,
 "nbformat_minor": 5
}
