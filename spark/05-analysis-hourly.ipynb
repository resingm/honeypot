{
 "cells": [
  {
   "cell_type": "markdown",
   "id": "47771536-0434-477e-b274-2d7d0e9f18ea",
   "metadata": {},
   "source": [
    "# Requests Analysis per hour\n",
    "\n",
    "This analysis focusses on the hour of the day, when requests occur.\n",
    "\n"
   ]
  },
  {
   "cell_type": "code",
   "execution_count": null,
   "id": "41162bc5-c219-4908-bd64-934d184a3598",
   "metadata": {},
   "outputs": [],
   "source": [
    "APP_NAME = \"Request Analysis per hour of SSH and Telnet requests\"\n"
   ]
  },
  {
   "cell_type": "code",
   "execution_count": null,
   "id": "6a1790bb-7a2d-4667-badf-bbbf26d934d9",
   "metadata": {},
   "outputs": [],
   "source": [
    "%load configuration.py"
   ]
  },
  {
   "cell_type": "code",
   "execution_count": null,
   "id": "25222287-7928-4363-bd40-61af6664e43a",
   "metadata": {},
   "outputs": [],
   "source": [
    "%load setup-pd.py"
   ]
  },
  {
   "cell_type": "code",
   "execution_count": null,
   "id": "f5e9cdd3-70e4-404d-ae61-fe458eae591e",
   "metadata": {},
   "outputs": [],
   "source": [
    "%load data.py\n"
   ]
  },
  {
   "cell_type": "code",
   "execution_count": null,
   "id": "a0787ef9-edf8-46c6-8eaa-b9539de263be",
   "metadata": {},
   "outputs": [],
   "source": [
    "# Get logs per protocol category\n",
    "# ================\n",
    "\n",
    "# Logs per category allows to distinguish between the requests\n",
    "\n",
    "df_ssh = df_log[df_log.category == 'ssh']\n",
    "df_ssh = df_ssh[['origin', 'origin_id', 'timestamp', 'ip']]\n",
    "df_tel = df_log[df_log.category == 'telnet']\n",
    "df_tel = df_tel[['origin', 'origin_id', 'timestamp', 'ip']]\n",
    "\n",
    "df_ssh\n"
   ]
  },
  {
   "cell_type": "code",
   "execution_count": null,
   "id": "9057b7dc-34e5-4050-bdc8-61259060b4f4",
   "metadata": {},
   "outputs": [],
   "source": [
    "# Group dataframes according to specific groups\n",
    "# ================\n",
    "\n",
    "# Total requests per hour of the day.\n",
    "\n",
    "df_ts_ssh = {}\n",
    "df_ts_ssh['total'] = df_ssh.resample('H', on='timestamp').count()\n",
    "df_ts_tel = {}\n",
    "df_ts_tel['total'] = df_tel.resample('H', on='timestamp').count()\n",
    "\n",
    "for h in honeypots:\n",
    "    # Add total of current network type\n",
    "    if h[0] not in df_ts_ssh.keys():\n",
    "        k = h[0]\n",
    "        df_ts_ssh[k] = df_ssh[df_ssh.origin == k].resample('H', on='timestamp').count()\n",
    "        df_ts_tel[k] = df_tel[df_tel.origin == k].resample('H', on='timestamp').count()\n",
    "    \n",
    "    k = f\"{h[0]} {h[1]}\"\n",
    "    \n",
    "    df_ts_ssh[k] = df_ssh[df_ssh.origin == h[0]][df_ssh.origin_id == h[1]].resample('H', on='timestamp').count()\n",
    "    df_ts_tel[k] = df_tel[df_tel.origin == h[0]][df_tel.origin_id == h[1]].resample('H', on='timestamp').count()\n",
    "\n",
    "for k, v in df_ts_ssh.items():\n",
    "    v = v.groupby(v.index.hour).sum()\n",
    "    v = v.drop(['origin', 'origin_id', 'ip'], axis=1)\n",
    "    v.rename(columns= {'timestamp' : 'requests'}, inplace=True)\n",
    "    df_ts_ssh[k] = v\n",
    "    \n",
    "for k, v in df_ts_tel.items():\n",
    "    v = v.groupby(v.index.hour).sum()\n",
    "    v = v.drop(['origin', 'origin_id', 'ip'], axis=1)\n",
    "    v.rename(columns= {'timestamp' : 'requests'}, inplace=True)\n",
    "    df_ts_tel[k] = v\n",
    "    "
   ]
  },
  {
   "cell_type": "code",
   "execution_count": null,
   "id": "22f2c0a0-5eaf-4715-a90a-f07642d5ec65",
   "metadata": {},
   "outputs": [],
   "source": [
    "# Summarize data frames to plots in comparison of each protocol\n",
    "# ================\n",
    "\n",
    "# This section summarizes different dataframes to collections.\n",
    "# Improves the ability to plot, because more information can be plotted in a single plot.\n",
    "\n",
    "plots = {}\n",
    "df = df_ts_ssh['total'].rename(columns = {'requests' : 'SSH'})\n",
    "df = df.join(df_ts_tel['total']).rename(columns = {'requests' : 'Telnet'})\n",
    "\n",
    "df.plot.bar(\n",
    "    figsize=(12, 8),\n",
    "    title=\"Comparison SSH & Telnet\",\n",
    "    xlabel=\"Hour of the day\",\n",
    "    ylabel=\"No. of requests\",\n",
    ")\n"
   ]
  },
  {
   "cell_type": "code",
   "execution_count": null,
   "id": "0816bbd8-9aac-463e-aa9d-16afa43b68f0",
   "metadata": {},
   "outputs": [],
   "source": [
    "# Summarize data frames to plots of SSH requests\n",
    "# ================\n",
    "\n",
    "# This section summarizes different dataframes to collections.\n",
    "# Improves the ability to plot, because more information can be plotted in a single plot.\n",
    "\n",
    "plots = {}\n",
    "\n",
    "# Overview of networks\n",
    "#keys = ['total', 'cloud', 'residential', 'campus']\n",
    "keys = ['cloud', 'residential', 'campus']\n",
    "df = None\n",
    "for k in keys:\n",
    "    df = df_ts_ssh[k] if df is None else df.join(df_ts_ssh[k])\n",
    "    df.rename(columns={'requests' : k.capitalize()}, inplace=True)\n",
    "    \n",
    "\n",
    "plots['SSH Requests per network type'] = df\n",
    "\n",
    "\n",
    "# Overview specific network types\n",
    "network_types = ['cloud', 'residential', 'campus']\n",
    "\n",
    "for net in network_types:\n",
    "    keys = [k for k in df_ts_ssh.keys() if net in k]\n",
    "    # Comment the following line if total summary should be excluded\n",
    "    keys = [k for k in keys if k != net]\n",
    "\n",
    "    df = None\n",
    "    for k in keys:\n",
    "        df = df_ts_ssh[k] if df is None else df.join(df_ts_ssh[k])\n",
    "        df.rename(columns={'requests' : k.capitalize()}, inplace=True)\n",
    "\n",
    "    plots[f\"SSH requests per honeypot in {net} networks\"] = df\n",
    "\n",
    "\n",
    "for k, v in plots.items():\n",
    "    v.plot.bar(\n",
    "        figsize=(12, 8),\n",
    "        title=k,\n",
    "        xlabel=\"Hour of the day\",\n",
    "        ylabel=\"No. of requests\",\n",
    "    )\n"
   ]
  },
  {
   "cell_type": "code",
   "execution_count": null,
   "id": "73e72f67-ea26-4a01-a31a-d9862fd0dfe2",
   "metadata": {},
   "outputs": [],
   "source": [
    "# Summarize data frames to plots of SSH requests\n",
    "# ================\n",
    "\n",
    "# This section summarizes different dataframes to collections.\n",
    "# Improves the ability to plot, because more information can be plotted in a single plot.\n",
    "\n",
    "plots = {}\n",
    "\n",
    "# Overview of networks\n",
    "#keys = ['total', 'cloud', 'residential', 'campus']\n",
    "keys = ['cloud', 'residential', 'campus']\n",
    "df = None\n",
    "for k in keys:\n",
    "    df = df_ts_tel[k] if df is None else df.join(df_ts_tel[k])\n",
    "    df.rename(columns={'requests' : k.capitalize()}, inplace=True)\n",
    "    \n",
    "\n",
    "plots['Telnet requests per network type'] = df\n",
    "\n",
    "\n",
    "# Overview specific network types\n",
    "network_types = ['cloud', 'residential', 'campus']\n",
    "\n",
    "for net in network_types:\n",
    "    keys = [k for k in df_ts_tel.keys() if net in k]\n",
    "    # Comment the following line if total summary should be excluded\n",
    "    keys = [k for k in keys if k != net]\n",
    "\n",
    "    df = None\n",
    "    for k in keys:\n",
    "        df = df_ts_tel[k] if df is None else df.join(df_ts_tel[k])\n",
    "        df.rename(columns={'requests' : k.capitalize()}, inplace=True)\n",
    "\n",
    "    plots[f\"Telnet requests per honeypot in {net} networks\"] = df\n",
    "\n",
    "\n",
    "for k, v in plots.items():\n",
    "    v.plot.bar(\n",
    "        figsize=(12, 8),\n",
    "        title=k,\n",
    "        xlabel=\"Hour of the day\",\n",
    "        ylabel=\"No. of requests\",\n",
    "    )\n"
   ]
  },
  {
   "cell_type": "code",
   "execution_count": null,
   "id": "60c77b59-a148-4df3-b4f9-634d407f5141",
   "metadata": {},
   "outputs": [],
   "source": []
  }
 ],
 "metadata": {
  "kernelspec": {
   "display_name": "Python 3",
   "language": "python",
   "name": "python3"
  },
  "language_info": {
   "codemirror_mode": {
    "name": "ipython",
    "version": 3
   },
   "file_extension": ".py",
   "mimetype": "text/x-python",
   "name": "python",
   "nbconvert_exporter": "python",
   "pygments_lexer": "ipython3",
   "version": "3.6.9"
  }
 },
 "nbformat": 4,
 "nbformat_minor": 5
}
