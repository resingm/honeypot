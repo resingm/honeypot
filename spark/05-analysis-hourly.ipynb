{
 "cells": [
  {
   "cell_type": "markdown",
   "id": "47771536-0434-477e-b274-2d7d0e9f18ea",
   "metadata": {},
   "source": [
    "# Requests Analysis per hour\n",
    "\n",
    "This analysis focusses on the hour of the day, when requests occur.\n",
    "\n"
   ]
  },
  {
   "cell_type": "code",
   "execution_count": null,
   "id": "41162bc5-c219-4908-bd64-934d184a3598",
   "metadata": {},
   "outputs": [],
   "source": [
    "APP_NAME = \"Request Analysis per hour of SSH and Telnet requests\"\n"
   ]
  },
  {
   "cell_type": "code",
   "execution_count": null,
   "id": "6a1790bb-7a2d-4667-badf-bbbf26d934d9",
   "metadata": {},
   "outputs": [],
   "source": [
    "%load configuration.py"
   ]
  },
  {
   "cell_type": "code",
   "execution_count": null,
   "id": "25222287-7928-4363-bd40-61af6664e43a",
   "metadata": {},
   "outputs": [],
   "source": [
    "%load setup-pd.py\n"
   ]
  },
  {
   "cell_type": "code",
   "execution_count": null,
   "id": "f5e9cdd3-70e4-404d-ae61-fe458eae591e",
   "metadata": {},
   "outputs": [],
   "source": [
    "%load data.py\n"
   ]
  },
  {
   "cell_type": "code",
   "execution_count": null,
   "id": "a0787ef9-edf8-46c6-8eaa-b9539de263be",
   "metadata": {},
   "outputs": [],
   "source": [
    "# Get logs per protocol category\n",
    "# ================\n",
    "\n",
    "# Logs per category allows to distinguish between the requests\n",
    "\n",
    "df_ssh = df_log[df_log.category == 'ssh']\n",
    "df_ssh = df_ssh[['origin', 'origin_id', 'timestamp', 'ip']]\n",
    "df_tel = df_log[df_log.category == 'telnet']\n",
    "df_tel = df_tel[['origin', 'origin_id', 'timestamp', 'ip']]\n",
    "\n",
    "df_ssh = df_ssh.set_index('timestamp')\n",
    "df_tel = df_tel.set_index('timestamp')\n"
   ]
  },
  {
   "cell_type": "code",
   "execution_count": null,
   "id": "d205850a-e763-4f55-8cac-666e8ae7a152",
   "metadata": {},
   "outputs": [],
   "source": [
    "df_ts_ssh = df_ssh.groupby([pd.Grouper(freq='H'), 'origin', 'origin_id']).count()\n",
    "df_ts_tel = df_tel.groupby([pd.Grouper(freq='H'), 'origin', 'origin_id']).count()\n",
    "\n",
    "df_ts_ssh = df_ts_ssh.reset_index().set_index('timestamp')\n",
    "df_ts_tel = df_ts_tel.reset_index().set_index('timestamp')\n",
    "\n",
    "df_ts_ssh = df_ts_ssh.groupby(['origin', 'origin_id', df_ts_ssh.index.hour]).sum()\n",
    "df_ts_tel = df_ts_tel.groupby(['origin', 'origin_id', df_ts_tel.index.hour]).sum()\n",
    "\n",
    "columns = {\n",
    "    'timestamp' : 'hour',\n",
    "    'ip' : 'requests',\n",
    "}\n",
    "\n",
    "df_ts_ssh = df_ts_ssh.reset_index().rename(columns=columns).set_index('hour')\n",
    "df_ts_tel = df_ts_tel.reset_index().rename(columns=columns).set_index('hour')\n",
    "\n",
    "#df_ts_ssh\n",
    "#df_ts_tel"
   ]
  },
  {
   "cell_type": "code",
   "execution_count": null,
   "id": "e572228f-d30b-443c-a321-9552143998ab",
   "metadata": {},
   "outputs": [],
   "source": [
    "# Summarize data frames to plots in comparison of each protocol\n",
    "# ================\n",
    "\n",
    "# This section summarizes different dataframes to collections.\n",
    "# Improves the ability to plot, because more information can be plotted in a single plot.\n",
    "\n",
    "plots = {}\n",
    "\n",
    "df = df_ts_ssh.groupby(df_ts_ssh.index).mean().drop(['origin_id'], axis=1).rename(columns={'requests' : 'SSH'})\n",
    "df = df.join(df_ts_tel.groupby(df_ts_tel.index).mean().drop(['origin_id'], axis=1).rename(columns={'requests' : 'Telnet'}))\n",
    "\n",
    "df.plot.bar(\n",
    "    figsize=(12, 8),\n",
    "    title=\"Comparison SSH & Telnet\",\n",
    "    xlabel=\"Hour of the day\",\n",
    "    ylabel=\"No. of requests (avg. per honeypot)\",\n",
    ")"
   ]
  },
  {
   "cell_type": "code",
   "execution_count": null,
   "id": "7bd63785-3a1e-41cd-b5dc-38ea0901429a",
   "metadata": {},
   "outputs": [],
   "source": [
    "# Group dataframes according to specific network types\n",
    "# ================\n",
    "#\n",
    "# Just consideres the SSH plots\n",
    "\n",
    "plots = {}\n",
    "\n",
    "df = df_ts_ssh.groupby([df_ts_ssh.index, 'origin']).mean().drop(['origin_id'], axis=1).unstack('origin')\n",
    "df.columns = df.columns.map(\n",
    "    lambda x : ' '.join([str(i).capitalize() for i in x if str(i) != 'requests'])\n",
    ")\n",
    "\n",
    "plots['Average SSH requests per network type'] = df\n",
    "\n",
    "for net in origins:\n",
    "    df = df_ts_ssh[df_ts_ssh.origin == net]\n",
    "    df = df.groupby(['hour', 'origin', 'origin_id']).sum().unstack(['origin', 'origin_id'])\n",
    "    df.columns = df.columns.map(\n",
    "        lambda x : ' '.join([str(i).capitalize() for i in x if str(i) != 'requests'])\n",
    "    )\n",
    "    \n",
    "    plots[f\"SSH requests per honeypot in {net} networks\"] = df\n",
    "\n",
    "\n",
    "for k, v in plots.items():\n",
    "    v.plot.bar(\n",
    "        figsize=(12, 8),\n",
    "        title=k,\n",
    "        xlabel=\"Hour of the day\",\n",
    "        ylabel=\"No. of requests\",\n",
    "    )\n",
    "\n"
   ]
  },
  {
   "cell_type": "code",
   "execution_count": null,
   "id": "60c77b59-a148-4df3-b4f9-634d407f5141",
   "metadata": {},
   "outputs": [],
   "source": [
    "# Group dataframes according to specific network types\n",
    "# ================\n",
    "#\n",
    "# Just consideres the Telnet plots\n",
    "\n",
    "plots = {}\n",
    "\n",
    "df = df_ts_tel.groupby([df_ts_tel.index, 'origin']).mean().drop(['origin_id'], axis=1).unstack('origin')\n",
    "df.columns = df.columns.map(\n",
    "    lambda x : ' '.join([str(i).capitalize() for i in x if str(i) != 'requests'])\n",
    ")\n",
    "\n",
    "plots['Average Telnet requests per network type'] = df\n",
    "\n",
    "for net in origins:\n",
    "    df = df_ts_tel[df_ts_tel.origin == net]\n",
    "    df = df.groupby(['hour', 'origin', 'origin_id']).sum().unstack(['origin', 'origin_id'])\n",
    "    df.columns = df.columns.map(\n",
    "        lambda x : ' '.join([str(i).capitalize() for i in x if str(i) != 'requests'])\n",
    "    )\n",
    "    \n",
    "    plots[f\"Telnet requests per honeypot in {net} networks\"] = df\n",
    "\n",
    "\n",
    "for k, v in plots.items():\n",
    "    v.plot.bar(\n",
    "        figsize=(12, 8),\n",
    "        title=k,\n",
    "        xlabel=\"Hour of the day\",\n",
    "        ylabel=\"No. of requests\",\n",
    "    )\n",
    "\n"
   ]
  },
  {
   "cell_type": "code",
   "execution_count": null,
   "id": "8c0651af-c84b-4d7b-9a5f-36fbfc82696a",
   "metadata": {},
   "outputs": [],
   "source": []
  }
 ],
 "metadata": {
  "kernelspec": {
   "display_name": "Python 3",
   "language": "python",
   "name": "python3"
  },
  "language_info": {
   "codemirror_mode": {
    "name": "ipython",
    "version": 3
   },
   "file_extension": ".py",
   "mimetype": "text/x-python",
   "name": "python",
   "nbconvert_exporter": "python",
   "pygments_lexer": "ipython3",
   "version": "3.8.5"
  }
 },
 "nbformat": 4,
 "nbformat_minor": 5
}
