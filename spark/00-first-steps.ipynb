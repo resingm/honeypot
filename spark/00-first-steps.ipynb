{
 "cells": [
  {
   "cell_type": "code",
   "execution_count": null,
   "metadata": {},
   "outputs": [],
   "source": [
    "APP_NAME = \"First steps\""
   ]
  },
  {
   "cell_type": "code",
   "execution_count": null,
   "metadata": {},
   "outputs": [],
   "source": [
    "%load configuration.py"
   ]
  },
  {
   "cell_type": "code",
   "execution_count": null,
   "metadata": {},
   "outputs": [],
   "source": [
    "%load setup.py"
   ]
  },
  {
   "cell_type": "code",
   "execution_count": null,
   "metadata": {},
   "outputs": [],
   "source": [
    "%load data.py"
   ]
  },
  {
   "cell_type": "code",
   "execution_count": null,
   "metadata": {},
   "outputs": [],
   "source": [
    "%load utils.py"
   ]
  },
  {
   "cell_type": "code",
   "execution_count": null,
   "metadata": {},
   "outputs": [],
   "source": [
    "# Some static variables\n",
    "\n",
    "CA = 'campus'\n",
    "CL = 'cloud'\n",
    "RE = 'residential'\n",
    "\n",
    "CA_CL = CA + CL\n",
    "CA_RE = CA + RE\n",
    "CL_RE = CL + RE\n",
    "ALL = CA + CL + RE\n"
   ]
  },
  {
   "cell_type": "code",
   "execution_count": null,
   "metadata": {},
   "outputs": [],
   "source": [
    "\n",
    "df_ip = {\n",
    "    CA: df_log.select(\"ip\").where(\"origin='campus'\").distinct(),\n",
    "    CL: df_log.select(\"ip\").where(\"origin='cloud'\").distinct(),\n",
    "    RE: df_log.select(\"ip\").where(\"origin='residential'\").distinct(),\n",
    "}\n",
    "\n",
    "df_ip[CA_CL] = df_ip[CA].intersect(df_ip[CL])\n",
    "df_ip[CA_RE] = df_ip[CA].intersect(df_ip[RE])\n",
    "df_ip[CL_RE] = df_ip[CL].intersect(df_ip[RE])\n",
    "df_ip[ALL] = df_ip[CA_CL].intersect(df_ip[RE])\n",
    "\n",
    "log(f\"CAMPUS:                        {df_ip[CA].count()}\")\n",
    "log(f\"CLOUD:                         {df_ip[CL].count()}\")\n",
    "log(f\"RESIDENTIAL:                   {df_ip[RE].count()}\")\n",
    "log(f\"CAMPUS + CLOUD:                {df_ip[CA_CL].count()}\")\n",
    "log(f\"CAMPUS + RESIDENTIAL:          {df_ip[CA_RE].count()}\")\n",
    "log(f\"CLOUD + RESIDENTIAL:           {df_ip[CL_RE].count()}\")\n",
    "log(f\"CAMPUS + CLOUD + RESIDENTIAL:  {df_ip[ALL].count()}\")\n",
    "\n",
    "\n"
   ]
  },
  {
   "cell_type": "code",
   "execution_count": null,
   "metadata": {},
   "outputs": [],
   "source": [
    "for r in df_ip[ALL].collect():\n",
    "    print(r.ip)"
   ]
  }
 ],
 "metadata": {
  "kernelspec": {
   "display_name": "Python 3",
   "language": "python",
   "name": "python3"
  },
  "language_info": {
   "codemirror_mode": {
    "name": "ipython",
    "version": 3
   },
   "file_extension": ".py",
   "mimetype": "text/x-python",
   "name": "python",
   "nbconvert_exporter": "python",
   "pygments_lexer": "ipython3",
   "version": "3.6.9"
  }
 },
 "nbformat": 4,
 "nbformat_minor": 4
}
